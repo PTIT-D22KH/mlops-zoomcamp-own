{
 "cells": [
  {
   "cell_type": "code",
   "execution_count": 2,
   "metadata": {},
   "outputs": [
    {
     "name": "stdout",
     "output_type": "stream",
     "text": [
      "  0%|                                    | 0/15 [00:00<?, ?trial/s, best loss=?]/opt/conda/envs/exp-tracking-env/lib/python3.9/site-packages/sklearn/metrics/_regression.py:492: FutureWarning: 'squared' is deprecated in version 1.4 and will be removed in 1.6. To calculate the root mean squared error, use the function'root_mean_squared_error'.\n",
      "  warnings.warn(\n",
      "\n",
      "  7%|▋          | 1/15 [00:07<01:49,  7.85s/trial, best loss: 5.370086069268862]/opt/conda/envs/exp-tracking-env/lib/python3.9/site-packages/sklearn/metrics/_regression.py:492: FutureWarning: 'squared' is deprecated in version 1.4 and will be removed in 1.6. To calculate the root mean squared error, use the function'root_mean_squared_error'.\n",
      "  warnings.warn(\n",
      "\n",
      " 13%|█▍         | 2/15 [00:08<00:46,  3.56s/trial, best loss: 5.370086069268862]/opt/conda/envs/exp-tracking-env/lib/python3.9/site-packages/sklearn/metrics/_regression.py:492: FutureWarning: 'squared' is deprecated in version 1.4 and will be removed in 1.6. To calculate the root mean squared error, use the function'root_mean_squared_error'.\n",
      "  warnings.warn(\n",
      "\n",
      " 20%|██▏        | 3/15 [00:09<00:27,  2.27s/trial, best loss: 5.370086069268862]/opt/conda/envs/exp-tracking-env/lib/python3.9/site-packages/sklearn/metrics/_regression.py:492: FutureWarning: 'squared' is deprecated in version 1.4 and will be removed in 1.6. To calculate the root mean squared error, use the function'root_mean_squared_error'.\n",
      "  warnings.warn(\n",
      "\n",
      " 27%|██▉        | 4/15 [00:14<00:37,  3.45s/trial, best loss: 5.357490752366866]/opt/conda/envs/exp-tracking-env/lib/python3.9/site-packages/sklearn/metrics/_regression.py:492: FutureWarning: 'squared' is deprecated in version 1.4 and will be removed in 1.6. To calculate the root mean squared error, use the function'root_mean_squared_error'.\n",
      "  warnings.warn(\n",
      "\n",
      " 33%|███▋       | 5/15 [00:17<00:31,  3.19s/trial, best loss: 5.357490752366866]/opt/conda/envs/exp-tracking-env/lib/python3.9/site-packages/sklearn/metrics/_regression.py:492: FutureWarning: 'squared' is deprecated in version 1.4 and will be removed in 1.6. To calculate the root mean squared error, use the function'root_mean_squared_error'.\n",
      "  warnings.warn(\n",
      "\n",
      " 40%|████▍      | 6/15 [00:26<00:46,  5.13s/trial, best loss: 5.354695072530291]/opt/conda/envs/exp-tracking-env/lib/python3.9/site-packages/sklearn/metrics/_regression.py:492: FutureWarning: 'squared' is deprecated in version 1.4 and will be removed in 1.6. To calculate the root mean squared error, use the function'root_mean_squared_error'.\n",
      "  warnings.warn(\n",
      "\n",
      " 47%|█████▏     | 7/15 [00:34<00:50,  6.30s/trial, best loss: 5.354695072530291]/opt/conda/envs/exp-tracking-env/lib/python3.9/site-packages/sklearn/metrics/_regression.py:492: FutureWarning: 'squared' is deprecated in version 1.4 and will be removed in 1.6. To calculate the root mean squared error, use the function'root_mean_squared_error'.\n",
      "  warnings.warn(\n",
      "\n",
      " 53%|█████▊     | 8/15 [00:35<00:32,  4.66s/trial, best loss: 5.354695072530291]/opt/conda/envs/exp-tracking-env/lib/python3.9/site-packages/sklearn/metrics/_regression.py:492: FutureWarning: 'squared' is deprecated in version 1.4 and will be removed in 1.6. To calculate the root mean squared error, use the function'root_mean_squared_error'.\n",
      "  warnings.warn(\n",
      "\n",
      " 60%|██████▌    | 9/15 [00:41<00:29,  4.94s/trial, best loss: 5.354695072530291]/opt/conda/envs/exp-tracking-env/lib/python3.9/site-packages/sklearn/metrics/_regression.py:492: FutureWarning: 'squared' is deprecated in version 1.4 and will be removed in 1.6. To calculate the root mean squared error, use the function'root_mean_squared_error'.\n",
      "  warnings.warn(\n",
      "\n",
      " 67%|██████▋   | 10/15 [00:45<00:24,  4.82s/trial, best loss: 5.354695072530291]/opt/conda/envs/exp-tracking-env/lib/python3.9/site-packages/sklearn/metrics/_regression.py:492: FutureWarning: 'squared' is deprecated in version 1.4 and will be removed in 1.6. To calculate the root mean squared error, use the function'root_mean_squared_error'.\n",
      "  warnings.warn(\n",
      "\n",
      " 73%|███████▎  | 11/15 [00:49<00:17,  4.41s/trial, best loss: 5.335419588556921]/opt/conda/envs/exp-tracking-env/lib/python3.9/site-packages/sklearn/metrics/_regression.py:492: FutureWarning: 'squared' is deprecated in version 1.4 and will be removed in 1.6. To calculate the root mean squared error, use the function'root_mean_squared_error'.\n",
      "  warnings.warn(\n",
      "\n",
      " 80%|████████  | 12/15 [00:52<00:11,  3.97s/trial, best loss: 5.335419588556921]/opt/conda/envs/exp-tracking-env/lib/python3.9/site-packages/sklearn/metrics/_regression.py:492: FutureWarning: 'squared' is deprecated in version 1.4 and will be removed in 1.6. To calculate the root mean squared error, use the function'root_mean_squared_error'.\n",
      "  warnings.warn(\n",
      "\n",
      " 87%|████████▋ | 13/15 [00:53<00:06,  3.12s/trial, best loss: 5.335419588556921]/opt/conda/envs/exp-tracking-env/lib/python3.9/site-packages/sklearn/metrics/_regression.py:492: FutureWarning: 'squared' is deprecated in version 1.4 and will be removed in 1.6. To calculate the root mean squared error, use the function'root_mean_squared_error'.\n",
      "  warnings.warn(\n",
      "\n",
      " 93%|█████████▎| 14/15 [00:56<00:03,  3.16s/trial, best loss: 5.335419588556921]/opt/conda/envs/exp-tracking-env/lib/python3.9/site-packages/sklearn/metrics/_regression.py:492: FutureWarning: 'squared' is deprecated in version 1.4 and will be removed in 1.6. To calculate the root mean squared error, use the function'root_mean_squared_error'.\n",
      "  warnings.warn(\n",
      "\n",
      "100%|██████████| 15/15 [01:01<00:00,  4.13s/trial, best loss: 5.335419588556921]\n"
     ]
    }
   ],
   "source": [
    "! python hpo.py"
   ]
  },
  {
   "cell_type": "code",
   "execution_count": 6,
   "metadata": {},
   "outputs": [
    {
     "name": "stdout",
     "output_type": "stream",
     "text": [
      "<Experiment: artifact_location='mlflow-artifacts:/2', creation_time=1716564586660, experiment_id='2', last_update_time=1716564586660, lifecycle_stage='active', name='random-forest-hyperopt', tags={}>\n",
      "param:  max_depth\n",
      "params does not contain key: max_depth\n",
      "param:  n_estimators\n",
      "params[param] 11\n",
      "param:  min_samples_split\n",
      "params[param] 2\n",
      "param:  min_samples_leaf\n",
      "params[param] 2\n",
      "param:  random_state\n",
      "params[param] 42\n",
      "param:  max_depth\n",
      "params does not contain key: max_depth\n",
      "param:  n_estimators\n",
      "params[param] 11\n",
      "param:  min_samples_split\n",
      "params[param] 2\n",
      "param:  min_samples_leaf\n",
      "params[param] 2\n",
      "param:  random_state\n",
      "params[param] 42\n",
      "param:  max_depth\n",
      "params does not contain key: max_depth\n",
      "param:  n_estimators\n",
      "params[param] 40\n",
      "param:  min_samples_split\n",
      "params[param] 3\n",
      "param:  min_samples_leaf\n",
      "params[param] 2\n",
      "param:  random_state\n",
      "params[param] 42\n",
      "param:  max_depth\n",
      "params does not contain key: max_depth\n",
      "param:  n_estimators\n",
      "params[param] 40\n",
      "param:  min_samples_split\n",
      "params[param] 3\n",
      "param:  min_samples_leaf\n",
      "params[param] 2\n",
      "param:  random_state\n",
      "params[param] 42\n",
      "param:  max_depth\n",
      "params does not contain key: max_depth\n",
      "param:  n_estimators\n",
      "params[param] 19\n",
      "param:  min_samples_split\n",
      "params[param] 9\n",
      "param:  min_samples_leaf\n",
      "params[param] 1\n",
      "param:  random_state\n",
      "params[param] 42\n",
      "Model ID: 1921e693c2314cd8bb22ec56532aa09c | Test RMSE: 5.476\n",
      "Registered model 'best_run_model' already exists. Creating a new version of this model...\n",
      "2024/05/24 16:12:40 INFO mlflow.store.model_registry.abstract_store: Waiting up to 300 seconds for model version to finish creation. Model name: best_run_model, version 2\n",
      "Created version '2' of model 'best_run_model'.\n"
     ]
    }
   ],
   "source": [
    "! python register_model.py"
   ]
  }
 ],
 "metadata": {
  "kernelspec": {
   "display_name": "Python 3",
   "language": "python",
   "name": "python3"
  },
  "language_info": {
   "codemirror_mode": {
    "name": "ipython",
    "version": 3
   },
   "file_extension": ".py",
   "mimetype": "text/x-python",
   "name": "python",
   "nbconvert_exporter": "python",
   "pygments_lexer": "ipython3",
   "version": "3.9.19"
  }
 },
 "nbformat": 4,
 "nbformat_minor": 2
}
